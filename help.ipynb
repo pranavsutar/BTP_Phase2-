{
 "cells": [
  {
   "cell_type": "code",
   "execution_count": 1,
   "metadata": {},
   "outputs": [
    {
     "name": "stdout",
     "output_type": "stream",
     "text": [
      "dict_keys(['info', 'licenses', 'images', 'annotations', 'categories'])\n",
      "Info: {'description': 'COCO 2017 Dataset', 'url': 'http://cocodataset.org', 'version': '1.0', 'year': 2017, 'contributor': 'COCO Consortium', 'date_created': '2017/09/01'}\n",
      "Images: [{'license': 3, 'file_name': '000000391895.jpg', 'coco_url': 'http://images.cocodataset.org/train2017/000000391895.jpg', 'height': 360, 'width': 640, 'date_captured': '2013-11-14 11:18:45', 'flickr_url': 'http://farm9.staticflickr.com/8186/8119368305_4e622c8349_z.jpg', 'id': 391895}, {'license': 4, 'file_name': '000000522418.jpg', 'coco_url': 'http://images.cocodataset.org/train2017/000000522418.jpg', 'height': 480, 'width': 640, 'date_captured': '2013-11-14 11:38:44', 'flickr_url': 'http://farm1.staticflickr.com/1/127244861_ab0c0381e7_z.jpg', 'id': 522418}]\n",
      "Annotations: [{'segmentation': [[380.74, 112.85, 383.28, 317.24, 383.28, 321.04, 403.59, 361.67, 416.28, 299.46, 421.36, 130.62]], 'area': 7821.531700000001, 'iscrowd': 0, 'image_id': 554625, 'bbox': [380.74, 112.85, 40.62, 248.82], 'category_id': 72, 'id': 30093}, {'segmentation': [[357.13, 207.86, 372.12, 52.78, 356.29, 32.99, 345.73, 117.44, 339.13, 184.74, 356.29, 208.49]], 'area': 3031.9432499999984, 'iscrowd': 0, 'image_id': 554625, 'bbox': [339.13, 32.99, 32.99, 175.5], 'category_id': 72, 'id': 35249}]\n",
      "Categories: [{'supercategory': 'person', 'id': 1, 'name': 'person'}, {'supercategory': 'vehicle', 'id': 2, 'name': 'bicycle'}]\n"
     ]
    }
   ],
   "source": [
    "'''import requests\n",
    "# import numpy as np, matplotlib.pyplot as plt\n",
    "\n",
    "# download mini-coco dataset\n",
    "url = 'https://raw.githubusercontent.com/chongruo/tiny-coco/master/small_coco/instances_train2017_small.json'\n",
    "response = requests.get(url)\n",
    "response.raise_for_status()\n",
    "data = response.json()\n",
    "\n",
    "# Help me understand the data and its structure\n",
    "print(data.keys())\n",
    "print(f\"Info: {data['info']}\")\n",
    "print(f\"Images: {data['images'][:2]}\")\n",
    "print(f\"Annotations: {data['annotations'][:2]}\")\n",
    "print(f\"Categories: {data['categories'][:2]}\")'''\n"
   ]
  },
  {
   "cell_type": "code",
   "execution_count": 13,
   "metadata": {},
   "outputs": [
    {
     "name": "stdout",
     "output_type": "stream",
     "text": [
      "dict_keys(['images', 'info', 'licenses', 'annotations', 'categories'])\n",
      "Info: {'description': 'COCO 2017 Dataset', 'url': 'http://cocodataset.org', 'version': '1.0', 'year': 2017, 'contributor': 'COCO Consortium', 'date_created': '2017/09/01'}\n",
      "Images: [{'license': 1, 'file_name': '000000231538.jpg', 'coco_url': 'http://images.cocodataset.org/train2017/000000231538.jpg', 'height': 640, 'width': 476, 'date_captured': '2013-11-18 12:00:52', 'flickr_url': 'http://farm4.staticflickr.com/3142/2804610447_ec49815f83_z.jpg', 'id': 231538}, {'license': 5, 'file_name': '000000322749.jpg', 'coco_url': 'http://images.cocodataset.org/train2017/000000322749.jpg', 'height': 427, 'width': 640, 'date_captured': '2013-11-19 21:13:16', 'flickr_url': 'http://farm5.staticflickr.com/4093/4915514425_9e5338fb29_z.jpg', 'id': 322749}]\n",
      "Annotations: [{'segmentation': [[314.97, 458.79, 333.66, 307.78, 326.47, 253.12, 345.17, 245.93, 336.54, 230.11, 332.22, 215.73, 352.36, 192.72, 384.0, 207.1, 375.37, 240.18, 417.08, 296.27, 401.26, 348.04, 398.38, 408.45, 395.51, 501.93, 398.38, 559.46, 372.49, 552.27, 369.62, 509.12, 369.62, 411.33, 362.43, 415.64, 355.24, 550.83, 348.04, 550.83, 322.16, 444.4, 320.72, 442.97]], 'area': 21914.666149999986, 'iscrowd': 0, 'image_id': 231538, 'bbox': [314.97, 192.72, 102.11, 366.74], 'category_id': 1, 'id': 481949}, {'segmentation': [[269.17, 506.98, 220.49, 509.85, 213.33, 498.39, 231.95, 469.76, 244.83, 379.56, 239.11, 290.79, 231.95, 280.76, 244.83, 254.99, 253.42, 254.99, 259.15, 226.36, 272.04, 203.45, 287.79, 203.45, 300.67, 202.02, 310.69, 203.45, 327.87, 229.22, 320.72, 257.86, 330.74, 290.79, 329.31, 322.29, 317.85, 369.53, 314.99, 401.03, 313.56, 429.67, 292.08, 398.17, 273.47, 403.9]], 'area': 19889.564050000004, 'iscrowd': 0, 'image_id': 231538, 'bbox': [213.33, 202.02, 117.41, 307.83], 'category_id': 1, 'id': 498229}]\n",
      "Categories: [{'supercategory': 'person', 'id': 1, 'name': 'person'}, {'supercategory': 'vehicle', 'id': 2, 'name': 'bicycle'}]\n"
     ]
    }
   ],
   "source": [
    "# The same analysis for instances_minitrain2017.json in this directory\n",
    "import json\n",
    "with open('instances_minitrain2017.json', 'r') as file:\n",
    "    data = json.load(file)\n",
    "    file.close()\n",
    "\n",
    "# Help me understand the data and its structure\n",
    "print(data.keys())\n",
    "print(f\"Info: {data['info']}\")\n",
    "print(f\"Images: {data['images'][:2]}\")\n",
    "print(f\"Annotations: {data['annotations'][:2]}\")\n",
    "print(f\"Categories: {data['categories'][:2]}\")\n"
   ]
  },
  {
   "cell_type": "code",
   "execution_count": 14,
   "metadata": {},
   "outputs": [
    {
     "name": "stdout",
     "output_type": "stream",
     "text": [
      "Image:\n",
      "  Keys: dict_keys(['license', 'file_name', 'coco_url', 'height', 'width', 'date_captured', 'flickr_url', 'id'])\n",
      "    Image ID: 231538\n",
      "    File Name: 000000231538.jpg\n",
      "    License: 1\n",
      "    Date: 2013-11-18 12:00:52\n",
      "    Height: 640\n",
      "    Width: 476\n",
      "    Coco URL: http://images.cocodataset.org/train2017/000000231538.jpg\n",
      "    Flickr URL: http://farm4.staticflickr.com/3142/2804610447_ec49815f83_z.jpg\n",
      "  Count: 25000\n"
     ]
    }
   ],
   "source": [
    "\n",
    "# strcuture of an image\n",
    "print(f\"Image:\")\n",
    "print(f\"  Keys: {data['images'][0].keys()}\")\n",
    "print(f\"    Image ID: {data['images'][0]['id']}\")\n",
    "print(f\"    File Name: {data['images'][0]['file_name']}\")\n",
    "print(f\"    License: {data['images'][0]['license']}\")\n",
    "print(f\"    Date: {data['images'][0]['date_captured']}\")\n",
    "print(f\"    Height: {data['images'][0]['height']}\")\n",
    "print(f\"    Width: {data['images'][0]['width']}\")\n",
    "print(f\"    Coco URL: {data['images'][0]['coco_url']}\")\n",
    "print(f\"    Flickr URL: {data['images'][0]['flickr_url']}\")\n",
    "print(f\"  Count: {len(data['images'])}\")\n",
    "\n"
   ]
  },
  {
   "cell_type": "code",
   "execution_count": 15,
   "metadata": {},
   "outputs": [
    {
     "name": "stdout",
     "output_type": "stream",
     "text": [
      "Annotation:\n",
      "  Keys: dict_keys(['segmentation', 'area', 'iscrowd', 'image_id', 'bbox', 'category_id', 'id'])\n",
      "    Segmentation: [[314.97, 458.79, 333.66, 307.78, 326.47, 253.12, 345.17, 245.93, 336.54, 230.11, 332.22, 215.73, 352.36, 192.72, 384.0, 207.1, 375.37, 240.18, 417.08, 296.27, 401.26, 348.04, 398.38, 408.45, 395.51, 501.93, 398.38, 559.46, 372.49, 552.27, 369.62, 509.12, 369.62, 411.33, 362.43, 415.64, 355.24, 550.83, 348.04, 550.83, 322.16, 444.4, 320.72, 442.97]]\n",
      "    Area: 21914.666149999986\n",
      "    Is Crowd: 0\n",
      "    Image ID: 231538\n",
      "    Bounding Box: [314.97, 192.72, 102.11, 366.74]\n",
      "    Category ID: 1\n",
      "    ID: 481949\n",
      "  Count: 183546\n"
     ]
    }
   ],
   "source": [
    "# Structure of an annotation\n",
    "print(f\"Annotation:\")\n",
    "print(f\"  Keys: {data['annotations'][0].keys()}\")\n",
    "# keys: dict_keys(['segmentation', 'area', 'iscrowd', 'image_id', 'bbox', 'category_id', 'id'])\n",
    "print(f\"    Segmentation: {data['annotations'][0]['segmentation']}\")\n",
    "print(f\"    Area: {data['annotations'][0]['area']}\")\n",
    "print(f\"    Is Crowd: {data['annotations'][0]['iscrowd']}\")\n",
    "print(f\"    Image ID: {data['annotations'][0]['image_id']}\")\n",
    "print(f\"    Bounding Box: {data['annotations'][0]['bbox']}\")\n",
    "print(f\"    Category ID: {data['annotations'][0]['category_id']}\")\n",
    "print(f\"    ID: {data['annotations'][0]['id']}\")\n",
    "print(f\"  Count: {len(data['annotations'])}\")\n",
    "\n",
    "# Bounding Box: [x, y, width, height]\n",
    "# Category ID: 1-80\n",
    "# Is Crowd: 0 or 1\n",
    "# Area: float\n",
    "# Segmentation: list of lists of floats\n"
   ]
  },
  {
   "cell_type": "code",
   "execution_count": 16,
   "metadata": {},
   "outputs": [
    {
     "name": "stdout",
     "output_type": "stream",
     "text": [
      "Category:\n",
      "  Keys: dict_keys(['supercategory', 'id', 'name'])\n",
      "    Super Category: vehicle\n",
      "    ID: 4\n",
      "    Name: motorcycle\n",
      "  Count: 80\n",
      "\n",
      "\n",
      "\n",
      "Categories:\n",
      "  1): person\n",
      "  2): bicycle\n",
      "  3): car\n",
      "  4): motorcycle\n",
      "  5): airplane\n",
      "  6): bus\n",
      "  7): train\n",
      "  8): truck\n",
      "  9): boat\n",
      "  10): traffic light\n",
      "  11): fire hydrant\n",
      "  12): stop sign\n",
      "  13): parking meter\n",
      "  14): bench\n",
      "  15): bird\n",
      "  16): cat\n",
      "  17): dog\n",
      "  18): horse\n",
      "  19): sheep\n",
      "  20): cow\n",
      "  21): elephant\n",
      "  22): bear\n",
      "  23): zebra\n",
      "  24): giraffe\n",
      "  25): backpack\n",
      "  26): umbrella\n",
      "  27): handbag\n",
      "  28): tie\n",
      "  29): suitcase\n",
      "  30): frisbee\n",
      "  31): skis\n",
      "  32): snowboard\n",
      "  33): sports ball\n",
      "  34): kite\n",
      "  35): baseball bat\n",
      "  36): baseball glove\n",
      "  37): skateboard\n",
      "  38): surfboard\n",
      "  39): tennis racket\n",
      "  40): bottle\n",
      "  41): wine glass\n",
      "  42): cup\n",
      "  43): fork\n",
      "  44): knife\n",
      "  45): spoon\n",
      "  46): bowl\n",
      "  47): banana\n",
      "  48): apple\n",
      "  49): sandwich\n",
      "  50): orange\n",
      "  51): broccoli\n",
      "  52): carrot\n",
      "  53): hot dog\n",
      "  54): pizza\n",
      "  55): donut\n",
      "  56): cake\n",
      "  57): chair\n",
      "  58): couch\n",
      "  59): potted plant\n",
      "  60): bed\n",
      "  61): dining table\n",
      "  62): toilet\n",
      "  63): tv\n",
      "  64): laptop\n",
      "  65): mouse\n",
      "  66): remote\n",
      "  67): keyboard\n",
      "  68): cell phone\n",
      "  69): microwave\n",
      "  70): oven\n",
      "  71): toaster\n",
      "  72): sink\n",
      "  73): refrigerator\n",
      "  74): book\n",
      "  75): clock\n",
      "  76): vase\n",
      "  77): scissors\n",
      "  78): teddy bear\n",
      "  79): hair drier\n",
      "  80): toothbrush\n"
     ]
    }
   ],
   "source": [
    "# Structure of a category\n",
    "print(f\"Category:\")\n",
    "print(f\"  Keys: {data['categories'][0].keys()}\")\n",
    "# keys: dict_keys(['supercategory', 'id', 'name'])\n",
    "print(f\"    Super Category: {data['categories'][3]['supercategory']}\")\n",
    "print(f\"    ID: {data['categories'][3]['id']}\")\n",
    "print(f\"    Name: {data['categories'][3]['name']}\")\n",
    "print(f\"  Count: {len(data['categories'])}\")\n",
    "# ID: 1-90\n",
    "\n",
    "# Categories:\n",
    "print(f\"\\n\\n\\nCategories:\")#  {set([category['ncategory in data['categories'][:5]ame'] for category in data['categories']])}\")\n",
    "l = [print(f\"  {i+1}): {category}\") for i, category in enumerate([category['name'] for category in data['categories']])]\n"
   ]
  },
  {
   "cell_type": "code",
   "execution_count": 28,
   "metadata": {},
   "outputs": [
    {
     "name": "stdout",
     "output_type": "stream",
     "text": [
      "[(481949, 'person'), (498229, 'person'), (536668, 'person'), (1184351, 'suitcase'), (1238132, 'person')]\n"
     ]
    }
   ],
   "source": [
    "# Mapping IDs\n",
    "# Image ID -> Image Index\n",
    "image_id_to_index = {image['id']: i for i, image in enumerate(data['images'])}\n",
    "\n",
    "# Annotation ID -> Annotation Index\n",
    "annotation_id_to_index = {annotation['id']: i for i, annotation in enumerate(data['annotations'])}\n",
    "\n",
    "# Category ID -> Category Name\n",
    "category_id_to_name = {category['id']: category['name'] for category in data['categories']}\n",
    "\n",
    "# Image Index -> Annotation Indices\n",
    "# Annotation Index -> Image Index\n",
    "image_index_to_annotation_indices = {i: [] for i in range(len(data['images']))}\n",
    "annotation_index_to_image_index = {i: data['annotations'][i]['image_id'] for i in range(len(data['annotations']))}\n",
    "for annotation in data['annotations']:\n",
    "    image_index = image_id_to_index[annotation['image_id']]\n",
    "    image_index_to_annotation_indices[image_index].append(annotation_id_to_index[annotation['id']])\n",
    "# print(image_index_to_annotation_indices)\n",
    "\n",
    "# Image ID -> Annotation IDs\n",
    "# Annotation ID -> Image ID\n",
    "image_id_to_annotation_ids = {image['id']: [] for image in data['images']}\n",
    "annotation_id_to_image_id = {annotation['id']: annotation['image_id'] for annotation in data['annotations']}\n",
    "annotation_id_to_classification = {annotation['id']: category_id_to_name[annotation['category_id']] for annotation in data['annotations']}\n",
    "for annotation in data['annotations']:\n",
    "    image_id_to_annotation_ids[annotation['image_id']].append(annotation['id'])\n",
    "# print(image_id_to_annotation_ids)\n",
    "print(list(annotation_id_to_classification.items())[:5])"
   ]
  },
  {
   "cell_type": "code",
   "execution_count": 27,
   "metadata": {},
   "outputs": [
    {
     "name": "stdout",
     "output_type": "stream",
     "text": [
      "dict_items([(1, 'one'), (2, 'two'), (3, 'three')])\n"
     ]
    }
   ],
   "source": [
    "\n",
    "\n",
    "d ={ 1:'one', 2:'two', 3:'three'}\n",
    "print((d.items()))\n"
   ]
  },
  {
   "cell_type": "code",
   "execution_count": null,
   "metadata": {},
   "outputs": [],
   "source": []
  }
 ],
 "metadata": {
  "kernelspec": {
   "display_name": "base",
   "language": "python",
   "name": "python3"
  },
  "language_info": {
   "codemirror_mode": {
    "name": "ipython",
    "version": 3
   },
   "file_extension": ".py",
   "mimetype": "text/x-python",
   "name": "python",
   "nbconvert_exporter": "python",
   "pygments_lexer": "ipython3",
   "version": "3.9.13"
  }
 },
 "nbformat": 4,
 "nbformat_minor": 2
}
